{
  "nbformat": 4,
  "nbformat_minor": 0,
  "metadata": {
    "colab": {
      "name": "variables.ipynb",
      "provenance": [],
      "collapsed_sections": [],
      "authorship_tag": "ABX9TyMjWUl3HmBHa8+wzdZLFiQs",
      "include_colab_link": true
    },
    "kernelspec": {
      "name": "python3",
      "display_name": "Python 3"
    }
  },
  "cells": [
    {
      "cell_type": "markdown",
      "metadata": {
        "id": "view-in-github",
        "colab_type": "text"
      },
      "source": [
        "<a href=\"https://colab.research.google.com/github/NeerajDana/Machine-Learning-Series/blob/master/python-basics/variables.ipynb\" target=\"_parent\"><img src=\"https://colab.research.google.com/assets/colab-badge.svg\" alt=\"Open In Colab\"/></a>"
      ]
    },
    {
      "cell_type": "markdown",
      "metadata": {
        "id": "E9arqpqIDbJI",
        "colab_type": "text"
      },
      "source": [
        "# **Variables**\n",
        "\n"
      ]
    },
    {
      "cell_type": "code",
      "metadata": {
        "id": "e3LOB3sDDiCg",
        "colab_type": "code",
        "colab": {
          "base_uri": "https://localhost:8080/",
          "height": 34
        },
        "outputId": "9ed88353-bc71-4706-8626-03bebaf3f291"
      },
      "source": [
        "X=1\n",
        "print(X)"
      ],
      "execution_count": null,
      "outputs": [
        {
          "output_type": "stream",
          "text": [
            "1\n"
          ],
          "name": "stdout"
        }
      ]
    },
    {
      "cell_type": "markdown",
      "metadata": {
        "id": "Dhf42fudEyqs",
        "colab_type": "text"
      },
      "source": [
        "## So lets say ram is having a teastore selling tea for 10rs and milk for 20rs .in a day ram sold 20 teas and 40 milks what is the amount he got\n"
      ]
    },
    {
      "cell_type": "code",
      "metadata": {
        "id": "EzCxuFEtDpOz",
        "colab_type": "code",
        "colab": {
          "base_uri": "https://localhost:8080/",
          "height": 68
        },
        "outputId": "cc7a451f-6e99-4729-85b1-98a0474ca4c1"
      },
      "source": [
        "\n",
        "TeaPrice = 10\n",
        "milkPrice = 20\n",
        "\n",
        "\n",
        "TotalAmount = (20*TeaPrice) + (40* milkPrice)\n",
        "print(TotalAmount)\n",
        "print(hex(id(TotalAmount)))\n",
        "print(type(TotalAmount))\n",
        "\n",
        "\n"
      ],
      "execution_count": null,
      "outputs": [
        {
          "output_type": "stream",
          "text": [
            "1000\n",
            "0x7fd22c718c70\n",
            "<class 'int'>\n"
          ],
          "name": "stdout"
        }
      ]
    },
    {
      "cell_type": "markdown",
      "metadata": {
        "id": "0546iDW1jl0E",
        "colab_type": "text"
      },
      "source": [
        "# Datatypes"
      ]
    },
    {
      "cell_type": "markdown",
      "metadata": {
        "id": "yv9qO0GnjqME",
        "colab_type": "text"
      },
      "source": [
        "### Numbers\n"
      ]
    },
    {
      "cell_type": "code",
      "metadata": {
        "id": "D_Bu1StLjrpi",
        "colab_type": "code",
        "colab": {
          "base_uri": "https://localhost:8080/",
          "height": 68
        },
        "outputId": "d5716d7f-8a88-4191-9b7c-4f9798f61b73"
      },
      "source": [
        "x=10\n",
        "print(type(x))\n",
        "\n",
        "x=10.50\n",
        "print(type(x))\n",
        "\n",
        "x=1j\n",
        "print(type(x))"
      ],
      "execution_count": null,
      "outputs": [
        {
          "output_type": "stream",
          "text": [
            "<class 'int'>\n",
            "<class 'float'>\n",
            "<class 'complex'>\n"
          ],
          "name": "stdout"
        }
      ]
    },
    {
      "cell_type": "markdown",
      "metadata": {
        "id": "Uib-km5nLpJa",
        "colab_type": "text"
      },
      "source": [
        "### Boolean"
      ]
    },
    {
      "cell_type": "code",
      "metadata": {
        "id": "BWDiQoxjLuaM",
        "colab_type": "code",
        "colab": {
          "base_uri": "https://localhost:8080/",
          "height": 51
        },
        "outputId": "70c155b4-b862-4491-91f6-31ffae898be4"
      },
      "source": [
        "x=True\n",
        "print(type(x))\n",
        "\n",
        "x=False\n",
        "print(type(x))\n"
      ],
      "execution_count": null,
      "outputs": [
        {
          "output_type": "stream",
          "text": [
            "<class 'bool'>\n",
            "<class 'bool'>\n"
          ],
          "name": "stdout"
        }
      ]
    },
    {
      "cell_type": "code",
      "metadata": {
        "id": "eTE5YAJJjsWj",
        "colab_type": "code",
        "colab": {}
      },
      "source": [
        ""
      ],
      "execution_count": null,
      "outputs": []
    },
    {
      "cell_type": "markdown",
      "metadata": {
        "id": "VefCETfgMFB7",
        "colab_type": "text"
      },
      "source": [
        "### Strings"
      ]
    },
    {
      "cell_type": "code",
      "metadata": {
        "id": "kwb3IG2hMHEL",
        "colab_type": "code",
        "colab": {
          "base_uri": "https://localhost:8080/",
          "height": 34
        },
        "outputId": "8e9cc831-8689-4153-8491-78013b2da94d"
      },
      "source": [
        "name = \"Neeraj Dana\"\n",
        "gender = \"M\"\n",
        "ACCNO = \"12345XXX789\"\n",
        "\n",
        "print(type(name))"
      ],
      "execution_count": null,
      "outputs": [
        {
          "output_type": "stream",
          "text": [
            "<class 'str'>\n"
          ],
          "name": "stdout"
        }
      ]
    },
    {
      "cell_type": "markdown",
      "metadata": {
        "id": "03aAOgJPFpIR",
        "colab_type": "text"
      },
      "source": [
        "# Collection Datatypes"
      ]
    },
    {
      "cell_type": "markdown",
      "metadata": {
        "id": "VfH_EcFHFuC1",
        "colab_type": "text"
      },
      "source": [
        "### List"
      ]
    },
    {
      "cell_type": "code",
      "metadata": {
        "id": "W6lCt9VMMN_1",
        "colab_type": "code",
        "colab": {
          "base_uri": "https://localhost:8080/",
          "height": 102
        },
        "outputId": "cd09e63a-4a8c-46df-a3ff-7ea34ebc43a6"
      },
      "source": [
        "products = [\"Tea\",\"Coffee\",\"Milk\"]\n",
        "\n",
        "# now products is the list and we can access the item in the list by its //index(the position where element is stored)\n",
        "# Tea is stored at 0 index \n",
        "tea = products[0]\n",
        "\n",
        "for item in products:\n",
        "\tprint(item)\n",
        "print(type(tea))\n",
        "print(type(products))\n"
      ],
      "execution_count": 10,
      "outputs": [
        {
          "output_type": "stream",
          "text": [
            "Tea\n",
            "Coffee\n",
            "Milk\n",
            "<class 'str'>\n",
            "<class 'list'>\n"
          ],
          "name": "stdout"
        }
      ]
    },
    {
      "cell_type": "markdown",
      "metadata": {
        "id": "5IXFn0WBHkJk",
        "colab_type": "text"
      },
      "source": [
        "### Dictionary"
      ]
    },
    {
      "cell_type": "code",
      "metadata": {
        "id": "PwdeMtrsHm-G",
        "colab_type": "code",
        "colab": {
          "base_uri": "https://localhost:8080/",
          "height": 204
        },
        "outputId": "02b5cde2-0413-4058-8aff-7787b899fb30"
      },
      "source": [
        "\n",
        "tea = {\"Name\":\"Tea\",\"Price\":10}\n",
        "coffee = {\"Name\":\"Cofee\",\"Price\":15}\n",
        "milk = {\"Name\":\"Milk\",\"Price\":20}\n",
        "\n",
        "\n",
        "print(tea)\n",
        "print(type(tea))\n",
        "print(\"-------------------------------------\")\n",
        "\n",
        "# you can iterate through the items in Dict as \n",
        "for key in tea:\n",
        "    print(key)\n",
        "    itemProp = tea[key]\n",
        "    print(itemProp)\n",
        "    print(type(itemProp))\n",
        "    print(\"-------------------------------------\")"
      ],
      "execution_count": 14,
      "outputs": [
        {
          "output_type": "stream",
          "text": [
            "{'Name': 'Tea', 'Price': 10}\n",
            "<class 'dict'>\n",
            "-------------------------------------\n",
            "Name\n",
            "Tea\n",
            "<class 'str'>\n",
            "-------------------------------------\n",
            "Price\n",
            "10\n",
            "<class 'int'>\n",
            "-------------------------------------\n"
          ],
          "name": "stdout"
        }
      ]
    },
    {
      "cell_type": "markdown",
      "metadata": {
        "id": "T6Whv2w_Org5",
        "colab_type": "text"
      },
      "source": [
        "### Sets"
      ]
    },
    {
      "cell_type": "code",
      "metadata": {
        "id": "wvcuGNFYOtpn",
        "colab_type": "code",
        "colab": {
          "base_uri": "https://localhost:8080/",
          "height": 153
        },
        "outputId": "2474d003-6e5e-4a29-fedc-85a4cc03d41a"
      },
      "source": [
        "print(\"----------------Product list with duplicate elements---------------------\")\n",
        "productsList = [\"Tea\",\"Coffee\",\"Milk\",\"Tea\"]\n",
        "print(productsList)\n",
        "print(type(productsList))\n",
        "\n",
        "print(\"-------------------------------------\")\n",
        "\n",
        "\n",
        "print(\"----------------Product Set with duplicate elements---------------------\")\n",
        "productsSet = {\"Tea\",\"Coffee\",\"Milk\",\"Tea\"}\n",
        "print(productsSet)\n",
        "print(type(productsSet))\n",
        "\n",
        "print(\"-------------------------------------\")"
      ],
      "execution_count": 16,
      "outputs": [
        {
          "output_type": "stream",
          "text": [
            "----------------Product list with duplicate elements---------------------\n",
            "['Tea', 'Coffee', 'Milk', 'Tea']\n",
            "<class 'list'>\n",
            "-------------------------------------\n",
            "----------------Product Set with duplicate elements---------------------\n",
            "{'Coffee', 'Tea', 'Milk'}\n",
            "<class 'set'>\n",
            "-------------------------------------\n"
          ],
          "name": "stdout"
        }
      ]
    }
  ]
}