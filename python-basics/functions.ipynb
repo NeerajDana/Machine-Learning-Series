{
  "nbformat": 4,
  "nbformat_minor": 0,
  "metadata": {
    "colab": {
      "name": "functions.ipynb",
      "provenance": [],
      "collapsed_sections": [],
      "authorship_tag": "ABX9TyNqIAyvg9nSHRDD095qPgk9",
      "include_colab_link": true
    },
    "kernelspec": {
      "name": "python3",
      "display_name": "Python 3"
    }
  },
  "cells": [
    {
      "cell_type": "markdown",
      "metadata": {
        "id": "view-in-github",
        "colab_type": "text"
      },
      "source": [
        "<a href=\"https://colab.research.google.com/github/NeerajDana/Machine-Learning-Series/blob/master/python-basics/functions.ipynb\" target=\"_parent\"><img src=\"https://colab.research.google.com/assets/colab-badge.svg\" alt=\"Open In Colab\"/></a>"
      ]
    },
    {
      "cell_type": "code",
      "metadata": {
        "id": "YMjAOOoM39XT",
        "colab_type": "code",
        "colab": {
          "base_uri": "https://localhost:8080/",
          "height": 54
        },
        "outputId": "8517696a-b2e9-47d1-e891-20385e0fb4bf"
      },
      "source": [
        "tea = {\"Name\":\"Tea\",\"costPrice\":8,\"sellPrice\":10}\n",
        "coffee = {\"Name\":\"Cofee\",\"costPrice\":12,\"sellPrice\":15}\n",
        "milk = {\"Name\":\"Milk\",\"costPrice\":15,\"sellPrice\":20}\n",
        "\n",
        "products = [tea,coffee,milk]\n",
        "print(products)\n",
        "\n"
      ],
      "execution_count": 8,
      "outputs": [
        {
          "output_type": "stream",
          "text": [
            "[{'Name': 'Tea', 'costPrice': 8, 'sellPrice': 10}, {'Name': 'Cofee', 'costPrice': 12, 'sellPrice': 15}, {'Name': 'Milk', 'costPrice': 15, 'sellPrice': 20}]\n"
          ],
          "name": "stdout"
        }
      ]
    },
    {
      "cell_type": "markdown",
      "metadata": {
        "id": "Bi2JZmm1KlAG",
        "colab_type": "text"
      },
      "source": [
        "### Function Need"
      ]
    },
    {
      "cell_type": "code",
      "metadata": {
        "id": "BiZVN8sZ4-vC",
        "colab_type": "code",
        "colab": {
          "base_uri": "https://localhost:8080/",
          "height": 119
        },
        "outputId": "fd9797d6-19ae-4d61-9caa-b7baf60dc774"
      },
      "source": [
        "Revenue = 0\n",
        "Profit  = 0\n",
        "\n",
        "print(\"============First Customer=================\")\n",
        "# first customer buys 1 tea and 2 coffee\n",
        "for item in products:\n",
        "  if(item[\"Name\"]== \"Tea\"):\n",
        "    tempRevenue = (1)* (item[\"sellPrice\"] - item[\"costPrice\"]) #1(10-8)\n",
        "    Profit = Profit+tempRevenue\n",
        "    Revenue = Revenue  + (1) *(item[\"sellPrice\"])\n",
        "        \n",
        "  if(item[\"Name\"]==\"Cofee\"):\n",
        "    tempRevenue = (2) *(item[\"sellPrice\"] - item[\"costPrice\"]) #1(10-8)\n",
        "    Profit = Profit+tempRevenue    \n",
        "    Revenue = Revenue  + (2) *(item[\"sellPrice\"])\n",
        "         \n",
        "print(Revenue,Profit)    \n",
        "\n",
        "\n",
        "print(\"============Second Customer=================\")\n",
        "\n",
        "# second customer buys 3 tea and 2 coffee and 1 milk\n",
        "\n",
        "\n",
        "for item in products:\n",
        "  if(item[\"Name\"]== \"Tea\"):\n",
        "    tempRevenue = (3)* (item[\"sellPrice\"] - item[\"costPrice\"]) #1(10-8)\n",
        "    Profit = Profit+tempRevenue\n",
        "    Revenue = Revenue  + (3) *(item[\"sellPrice\"])\n",
        "        \n",
        "  if(item[\"Name\"]==\"Cofee\"):\n",
        "    tempRevenue = (2) *(item[\"sellPrice\"] - item[\"costPrice\"]) #1(10-8)\n",
        "    Profit = Profit+tempRevenue    \n",
        "    Revenue = Revenue  + (2) *(item[\"sellPrice\"])\n",
        "    \n",
        "  if(item[\"Name\"]==\"Milk\"):\n",
        "    tempRevenue = (1) *(item[\"sellPrice\"] - item[\"costPrice\"]) #1(10-8)\n",
        "    Profit = Profit+tempRevenue    \n",
        "    Revenue = Revenue  + (1) *(item[\"sellPrice\"])  \n",
        "         \n",
        "print(Revenue,Profit) \n",
        "\n",
        "\n",
        "print(\"============Third Customer=================\")\n",
        "\n",
        "# third customer buys 3 tea and 2 coffee and 1 milk\n",
        "\n",
        "\n",
        "for item in products:\n",
        "  if(item[\"Name\"]== \"Tea\"):\n",
        "    tempRevenue = (3)* (item[\"sellPrice\"] - item[\"costPrice\"]) #1(10-8)\n",
        "    Profit = Profit+tempRevenue\n",
        "    Revenue = Revenue  + (3) *(item[\"sellPrice\"])\n",
        "        \n",
        "  if(item[\"Name\"]==\"Cofee\"):\n",
        "    tempRevenue = (2) *(item[\"sellPrice\"] - item[\"costPrice\"]) #1(10-8)\n",
        "    Profit = Profit+tempRevenue    \n",
        "    Revenue = Revenue  + (2) *(item[\"sellPrice\"])\n",
        "    \n",
        "  if(item[\"Name\"]==\"Milk\"):\n",
        "    tempRevenue = (1) *(item[\"sellPrice\"] - item[\"costPrice\"]) #1(10-8)\n",
        "    Profit = Profit+tempRevenue    \n",
        "    Revenue = Revenue  + (1) *(item[\"sellPrice\"])\n",
        "    \n",
        "print(Revenue,Profit)    "
      ],
      "execution_count": 43,
      "outputs": [
        {
          "output_type": "stream",
          "text": [
            "============First Customer=================\n",
            "40 8\n",
            "============Second Customer=================\n",
            "120 25\n",
            "============Third Customer=================\n",
            "200 42\n"
          ],
          "name": "stdout"
        }
      ]
    },
    {
      "cell_type": "markdown",
      "metadata": {
        "id": "Gv6GgazhLPLo",
        "colab_type": "text"
      },
      "source": [
        "### Functions"
      ]
    },
    {
      "cell_type": "code",
      "metadata": {
        "id": "Qaize1yh4U3r",
        "colab_type": "code",
        "colab": {}
      },
      "source": [
        "def UpdateRevenueandProfit(name , qty , Profit,Revenue):\n",
        "  # the description of of our function\n",
        "  \"Calculate the Profit and revenue based on item and quantity passed and updates it \"\n",
        "  for item in products:\n",
        "    # loop through all the products to find the product which we have passed\n",
        "    if(item[\"Name\"]== name):\n",
        "      tempRevenue = (qty) *(item[\"sellPrice\"] - item[\"costPrice\"])\n",
        "      Profit = Profit+tempRevenue    \n",
        "      Revenue = Revenue  + (qty) *(item[\"sellPrice\"])\n",
        "\n",
        "  print(\"============Summary Start=================\")  \n",
        "  print(\"Revenue Update after order :\"+ str(Revenue) )\n",
        "  print(\"Profit Update after order :\"+ str(Profit) )\n",
        "  print(\"============Summary End=================\")\n",
        "  print()\n",
        "  print()\n",
        "        \t"
      ],
      "execution_count": 40,
      "outputs": []
    },
    {
      "cell_type": "code",
      "metadata": {
        "id": "MNy80P_bD9WW",
        "colab_type": "code",
        "colab": {}
      },
      "source": [
        "\n",
        "Profit = 0\n",
        "Revenue = 0\n",
        "\n",
        "# one cusomer purchases 20 Tea\n",
        "UpdateRevenueandProfit('Tea',20 ,Profit,Revenue)\n",
        "\n",
        "# one cusomer purchases 20 Milk\n",
        "UpdateRevenueandProfit('Milk',20 ,Profit,Revenue)\n",
        "\n",
        "# one cusomer purchases 30 Coffee\n",
        "UpdateRevenueandProfit('Coffee',30 ,Profit,Revenue)\n"
      ],
      "execution_count": null,
      "outputs": []
    },
    {
      "cell_type": "code",
      "metadata": {
        "id": "oCizdJHHFCpL",
        "colab_type": "code",
        "colab": {}
      },
      "source": [
        ""
      ],
      "execution_count": null,
      "outputs": []
    }
  ]
}