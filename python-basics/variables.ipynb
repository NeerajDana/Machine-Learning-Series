{
  "nbformat": 4,
  "nbformat_minor": 0,
  "metadata": {
    "colab": {
      "name": "variables.ipynb",
      "provenance": [],
      "collapsed_sections": [],
      "authorship_tag": "ABX9TyONA/IBZRa3hZrbJYOaIl/V",
      "include_colab_link": true
    },
    "kernelspec": {
      "name": "python3",
      "display_name": "Python 3"
    }
  },
  "cells": [
    {
      "cell_type": "markdown",
      "metadata": {
        "id": "view-in-github",
        "colab_type": "text"
      },
      "source": [
        "<a href=\"https://colab.research.google.com/github/NeerajDana/Machine-Learning-Series/blob/master/python-basics/variables.ipynb\" target=\"_parent\"><img src=\"https://colab.research.google.com/assets/colab-badge.svg\" alt=\"Open In Colab\"/></a>"
      ]
    },
    {
      "cell_type": "markdown",
      "metadata": {
        "id": "E9arqpqIDbJI",
        "colab_type": "text"
      },
      "source": [
        "# **Variables**\n",
        "\n"
      ]
    },
    {
      "cell_type": "code",
      "metadata": {
        "id": "e3LOB3sDDiCg",
        "colab_type": "code",
        "colab": {
          "base_uri": "https://localhost:8080/",
          "height": 34
        },
        "outputId": "9ed88353-bc71-4706-8626-03bebaf3f291"
      },
      "source": [
        "X=1\n",
        "print(X)"
      ],
      "execution_count": 4,
      "outputs": [
        {
          "output_type": "stream",
          "text": [
            "1\n"
          ],
          "name": "stdout"
        }
      ]
    },
    {
      "cell_type": "markdown",
      "metadata": {
        "id": "Dhf42fudEyqs",
        "colab_type": "text"
      },
      "source": [
        "## So lets say ram is having a teastore selling tea for 10rs and milk for 20rs .in a day ram sold 20 teas and 40 milks what is the amount he got\n"
      ]
    },
    {
      "cell_type": "code",
      "metadata": {
        "id": "EzCxuFEtDpOz",
        "colab_type": "code",
        "colab": {
          "base_uri": "https://localhost:8080/",
          "height": 51
        },
        "outputId": "00da034c-87a1-49fd-bed9-6cb78dae4a81"
      },
      "source": [
        "\n",
        "TeaPrice = 10\n",
        "milkPrice = 20\n",
        "\n",
        "\n",
        "TotalAmount = (20*TeaPrice) + (40* milkPrice)\n",
        "print(TotalAmount)\n",
        "print(hex(id(TotalAmount)))"
      ],
      "execution_count": 8,
      "outputs": [
        {
          "output_type": "stream",
          "text": [
            "1000\n",
            "0x7fd22c718d10\n"
          ],
          "name": "stdout"
        }
      ]
    }
  ]
}